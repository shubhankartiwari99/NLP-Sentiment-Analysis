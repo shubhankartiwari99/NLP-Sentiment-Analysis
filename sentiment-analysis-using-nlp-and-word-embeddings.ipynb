{
 "cells": [
  {
   "cell_type": "code",
   "execution_count": 1,
   "metadata": {
    "execution": {
     "iopub.execute_input": "2021-01-29T17:25:31.044986Z",
     "iopub.status.busy": "2021-01-29T17:25:31.043179Z",
     "iopub.status.idle": "2021-01-29T17:25:31.045627Z",
     "shell.execute_reply": "2021-01-29T17:25:31.046099Z"
    },
    "papermill": {
     "duration": 0.024456,
     "end_time": "2021-01-29T17:25:31.046349",
     "exception": false,
     "start_time": "2021-01-29T17:25:31.021893",
     "status": "completed"
    },
    "tags": []
   },
   "outputs": [],
   "source": [
    "from tqdm import tqdm\n",
    "import os"
   ]
  },
  {
   "cell_type": "code",
   "execution_count": 2,
   "metadata": {
    "execution": {
     "iopub.execute_input": "2021-01-29T17:25:31.082651Z",
     "iopub.status.busy": "2021-01-29T17:25:31.082085Z",
     "iopub.status.idle": "2021-01-29T17:26:59.428556Z",
     "shell.execute_reply": "2021-01-29T17:26:59.429075Z"
    },
    "papermill": {
     "duration": 88.368174,
     "end_time": "2021-01-29T17:26:59.429258",
     "exception": false,
     "start_time": "2021-01-29T17:25:31.061084",
     "status": "completed"
    },
    "tags": []
   },
   "outputs": [
    {
     "name": "stdout",
     "output_type": "stream",
     "text": [
      "Loading  neg\n"
     ]
    },
    {
     "name": "stderr",
     "output_type": "stream",
     "text": [
      "100%|██████████| 12500/12500 [00:44<00:00, 278.57it/s]\n"
     ]
    },
    {
     "name": "stdout",
     "output_type": "stream",
     "text": [
      "Loading  pos\n"
     ]
    },
    {
     "name": "stderr",
     "output_type": "stream",
     "text": [
      "100%|██████████| 12500/12500 [00:42<00:00, 291.26it/s]\n"
     ]
    }
   ],
   "source": [
    "data = \"../input/keras-imdb/aclImdb_v1/aclImdb\"\n",
    "train = os.path.join(data,'train')\n",
    "labels = []\n",
    "texts = []\n",
    "for label_type in ['neg','pos']:\n",
    "    dir_n = os.path.join(train,label_type) \n",
    "    print('Loading ',label_type)\n",
    "    for fname in tqdm(os.listdir(dir_n)):\n",
    "        if fname[-4:] == \".txt\":\n",
    "            f = open(os.path.join(dir_n,fname))\n",
    "            texts.append(f.read())\n",
    "            f.close()\n",
    "            if label_type == 'neg':\n",
    "                labels.append(0)\n",
    "            else:\n",
    "                labels.append(1)"
   ]
  },
  {
   "cell_type": "code",
   "execution_count": 3,
   "metadata": {
    "execution": {
     "iopub.execute_input": "2021-01-29T17:27:00.009922Z",
     "iopub.status.busy": "2021-01-29T17:27:00.009261Z",
     "iopub.status.idle": "2021-01-29T17:27:00.015227Z",
     "shell.execute_reply": "2021-01-29T17:27:00.014287Z"
    },
    "papermill": {
     "duration": 0.299746,
     "end_time": "2021-01-29T17:27:00.015362",
     "exception": false,
     "start_time": "2021-01-29T17:26:59.715616",
     "status": "completed"
    },
    "tags": []
   },
   "outputs": [
    {
     "data": {
      "text/plain": [
       "(25000, 25000)"
      ]
     },
     "execution_count": 3,
     "metadata": {},
     "output_type": "execute_result"
    }
   ],
   "source": [
    "len(labels),len(texts)"
   ]
  },
  {
   "cell_type": "code",
   "execution_count": 4,
   "metadata": {
    "execution": {
     "iopub.execute_input": "2021-01-29T17:27:00.595473Z",
     "iopub.status.busy": "2021-01-29T17:27:00.593645Z",
     "iopub.status.idle": "2021-01-29T17:27:00.598577Z",
     "shell.execute_reply": "2021-01-29T17:27:00.599144Z"
    },
    "papermill": {
     "duration": 0.301182,
     "end_time": "2021-01-29T17:27:00.599301",
     "exception": false,
     "start_time": "2021-01-29T17:27:00.298119",
     "status": "completed"
    },
    "tags": []
   },
   "outputs": [
    {
     "data": {
      "text/plain": [
       "0.5"
      ]
     },
     "execution_count": 4,
     "metadata": {},
     "output_type": "execute_result"
    }
   ],
   "source": [
    "import numpy as np\n",
    "np.mean(labels)"
   ]
  },
  {
   "cell_type": "code",
   "execution_count": 5,
   "metadata": {
    "execution": {
     "iopub.execute_input": "2021-01-29T17:27:01.178499Z",
     "iopub.status.busy": "2021-01-29T17:27:01.176720Z",
     "iopub.status.idle": "2021-01-29T17:27:01.180831Z",
     "shell.execute_reply": "2021-01-29T17:27:01.179074Z"
    },
    "papermill": {
     "duration": 0.295148,
     "end_time": "2021-01-29T17:27:01.180966",
     "exception": false,
     "start_time": "2021-01-29T17:27:00.885818",
     "status": "completed"
    },
    "tags": []
   },
   "outputs": [
    {
     "name": "stdout",
     "output_type": "stream",
     "text": [
      "Label:  1\n",
      "The Clouded Yellow is a compact psychological thriller with interesting characterizations. Barry Jones and Kenneth More are both terrific in supporting roles in characters that both have more to them than what meets the eye. Jean Simmons is quite good, and Trevor Howard makes a fascinatingly offbeat suspense hero.\n"
     ]
    }
   ],
   "source": [
    "print('Label: ',labels[22003])\n",
    "print(texts[22003])"
   ]
  },
  {
   "cell_type": "code",
   "execution_count": 6,
   "metadata": {
    "execution": {
     "iopub.execute_input": "2021-01-29T17:27:01.838352Z",
     "iopub.status.busy": "2021-01-29T17:27:01.837375Z",
     "iopub.status.idle": "2021-01-29T17:27:01.847434Z",
     "shell.execute_reply": "2021-01-29T17:27:01.848578Z"
    },
    "papermill": {
     "duration": 0.38146,
     "end_time": "2021-01-29T17:27:01.848924",
     "exception": false,
     "start_time": "2021-01-29T17:27:01.467464",
     "status": "completed"
    },
    "tags": []
   },
   "outputs": [
    {
     "name": "stdout",
     "output_type": "stream",
     "text": [
      "Label:  0\n",
      "Ritchie's first two films were snappy, stylish entertainment. Here, he raids two recent classics  'The Usual Suspects' and 'Fight Club'  and still comes out empty-handed.<br /><br />Despite parading itself as a con-mystery (with the sub-'Usual Suspects' twaddle \"the greatest con he ever pulled was convincing you that he was you\" or whatever it was...) and attempting a 'Fight-Club' twist about which characters are real and which are internal manifestations, the film struggles to maintain interest in its second half. By the last third, you know you're being lead down a blind alley, and tediously slowly at that.<br /><br />Cons, chess and game theory are all great subjects, but Ritchie delves into them too superficially and too repetitively to make much use of the material.<br /><br />The only thing that keeps the movie (almost) watchable is Ritchie's bold way with with a scene and Maurice-Jones's dynamic camera. If Ritchie stuck to a more satisfying plot, and succumbed to tighter editing, there's no reason why he couldn't have made another enjoyable gangster caper.<br /><br />As it is, Revolver is a waste of your time. Incomprehensibility does not equal profundity. If you want to see a great film that doesn't make logical sense but makes a virtue of it (and, incidentally, which also involves an inexplicable escape from solitary confinement) watch 'Lost Highway'.\n"
     ]
    }
   ],
   "source": [
    "print('Label: ',labels[5])\n",
    "print(texts[5])"
   ]
  },
  {
   "cell_type": "code",
   "execution_count": 7,
   "metadata": {
    "execution": {
     "iopub.execute_input": "2021-01-29T17:27:02.687364Z",
     "iopub.status.busy": "2021-01-29T17:27:02.686540Z",
     "iopub.status.idle": "2021-01-29T17:27:19.337165Z",
     "shell.execute_reply": "2021-01-29T17:27:19.336551Z"
    },
    "papermill": {
     "duration": 17.026641,
     "end_time": "2021-01-29T17:27:19.337335",
     "exception": false,
     "start_time": "2021-01-29T17:27:02.310694",
     "status": "completed"
    },
    "tags": []
   },
   "outputs": [],
   "source": [
    "from keras.preprocessing.text import Tokenizer\n",
    "words = 10000\n",
    "tokenizer = Tokenizer(num_words = words)\n",
    "tokenizer.fit_on_texts(texts)\n",
    "sequences = tokenizer.texts_to_sequences(texts)"
   ]
  },
  {
   "cell_type": "code",
   "execution_count": 8,
   "metadata": {
    "execution": {
     "iopub.execute_input": "2021-01-29T17:27:19.928606Z",
     "iopub.status.busy": "2021-01-29T17:27:19.927663Z",
     "iopub.status.idle": "2021-01-29T17:27:19.932374Z",
     "shell.execute_reply": "2021-01-29T17:27:19.931876Z"
    },
    "papermill": {
     "duration": 0.302201,
     "end_time": "2021-01-29T17:27:19.932510",
     "exception": false,
     "start_time": "2021-01-29T17:27:19.630309",
     "status": "completed"
    },
    "tags": []
   },
   "outputs": [
    {
     "name": "stdout",
     "output_type": "stream",
     "text": [
      "Token for \"The\" 1\n",
      "Token for \"Movie\" 17\n",
      "Token for \"Generator\" 19947\n"
     ]
    }
   ],
   "source": [
    "word_idx = tokenizer.word_index\n",
    "print('Token for \"The\"',word_idx['the'])\n",
    "print('Token for \"Movie\"',word_idx['movie'])\n",
    "print('Token for \"Generator\"',word_idx['generator'])"
   ]
  },
  {
   "cell_type": "code",
   "execution_count": 9,
   "metadata": {
    "execution": {
     "iopub.execute_input": "2021-01-29T17:27:20.536807Z",
     "iopub.status.busy": "2021-01-29T17:27:20.535944Z",
     "iopub.status.idle": "2021-01-29T17:27:20.539244Z",
     "shell.execute_reply": "2021-01-29T17:27:20.539902Z"
    },
    "papermill": {
     "duration": 0.314809,
     "end_time": "2021-01-29T17:27:20.540067",
     "exception": false,
     "start_time": "2021-01-29T17:27:20.225258",
     "status": "completed"
    },
    "tags": []
   },
   "outputs": [
    {
     "data": {
      "text/plain": [
       "[1, 4179, 6, 3, 1983, 707, 16, 218, 7461, 3508]"
      ]
     },
     "execution_count": 9,
     "metadata": {},
     "output_type": "execute_result"
    }
   ],
   "source": [
    "sequences[22003][:10]"
   ]
  },
  {
   "cell_type": "code",
   "execution_count": 10,
   "metadata": {
    "execution": {
     "iopub.execute_input": "2021-01-29T17:27:21.137950Z",
     "iopub.status.busy": "2021-01-29T17:27:21.137207Z",
     "iopub.status.idle": "2021-01-29T17:27:21.773054Z",
     "shell.execute_reply": "2021-01-29T17:27:21.773813Z"
    },
    "papermill": {
     "duration": 0.936791,
     "end_time": "2021-01-29T17:27:21.774041",
     "exception": false,
     "start_time": "2021-01-29T17:27:20.837250",
     "status": "completed"
    },
    "tags": []
   },
   "outputs": [
    {
     "name": "stdout",
     "output_type": "stream",
     "text": [
      "(25000, 100)\n"
     ]
    }
   ],
   "source": [
    "from keras.preprocessing.sequence import pad_sequences\n",
    "max_length = 100\n",
    "data = pad_sequences(sequences,maxlen=max_length)\n",
    "print(data.shape)"
   ]
  },
  {
   "cell_type": "code",
   "execution_count": 11,
   "metadata": {
    "execution": {
     "iopub.execute_input": "2021-01-29T17:27:22.373709Z",
     "iopub.status.busy": "2021-01-29T17:27:22.372635Z",
     "iopub.status.idle": "2021-01-29T17:27:22.382289Z",
     "shell.execute_reply": "2021-01-29T17:27:22.381705Z"
    },
    "papermill": {
     "duration": 0.313675,
     "end_time": "2021-01-29T17:27:22.382430",
     "exception": false,
     "start_time": "2021-01-29T17:27:22.068755",
     "status": "completed"
    },
    "tags": []
   },
   "outputs": [],
   "source": [
    "labels = np.asarray(labels)\n",
    "indices = np.arange(data.shape[0])\n",
    "np.random.shuffle(indices)\n",
    "data = data[indices]\n",
    "labels = labels[indices]\n",
    "\n",
    "training_samples = 20000\n",
    "validation_samples = 5000\n",
    "\n",
    "x_train = data[:training_samples]\n",
    "y_train = labels[:training_samples]\n",
    "x_val = data[training_samples: training_samples + validation_samples]\n",
    "y_val = labels[training_samples: training_samples + validation_samples]"
   ]
  },
  {
   "cell_type": "code",
   "execution_count": 12,
   "metadata": {
    "execution": {
     "iopub.execute_input": "2021-01-29T17:27:22.993918Z",
     "iopub.status.busy": "2021-01-29T17:27:22.993080Z",
     "iopub.status.idle": "2021-01-29T17:27:26.421307Z",
     "shell.execute_reply": "2021-01-29T17:27:26.422266Z"
    },
    "papermill": {
     "duration": 3.735716,
     "end_time": "2021-01-29T17:27:26.422484",
     "exception": false,
     "start_time": "2021-01-29T17:27:22.686768",
     "status": "completed"
    },
    "tags": []
   },
   "outputs": [
    {
     "name": "stdout",
     "output_type": "stream",
     "text": [
      "Model: \"sequential\"\n",
      "_________________________________________________________________\n",
      "Layer (type)                 Output Shape              Param #   \n",
      "=================================================================\n",
      "embedding (Embedding)        (None, 100, 50)           500000    \n",
      "_________________________________________________________________\n",
      "flatten (Flatten)            (None, 5000)              0         \n",
      "_________________________________________________________________\n",
      "dense (Dense)                (None, 32)                160032    \n",
      "_________________________________________________________________\n",
      "dense_1 (Dense)              (None, 1)                 33        \n",
      "=================================================================\n",
      "Total params: 660,065\n",
      "Trainable params: 660,065\n",
      "Non-trainable params: 0\n",
      "_________________________________________________________________\n"
     ]
    }
   ],
   "source": [
    "from keras.models import Sequential\n",
    "from keras.layers import Embedding, Flatten, Dense\n",
    "\n",
    "embedding_dim = 50\n",
    "\n",
    "model = Sequential()\n",
    "model.add(Embedding(words, embedding_dim, input_length=max_length))\n",
    "model.add(Flatten())\n",
    "model.add(Dense(32, activation='relu'))\n",
    "model.add(Dense(1, activation='sigmoid'))\n",
    "model.summary()"
   ]
  },
  {
   "cell_type": "code",
   "execution_count": 13,
   "metadata": {
    "execution": {
     "iopub.execute_input": "2021-01-29T17:27:27.009417Z",
     "iopub.status.busy": "2021-01-29T17:27:27.008587Z",
     "iopub.status.idle": "2021-01-29T17:27:27.016379Z",
     "shell.execute_reply": "2021-01-29T17:27:27.015853Z"
    },
    "papermill": {
     "duration": 0.30658,
     "end_time": "2021-01-29T17:27:27.016507",
     "exception": false,
     "start_time": "2021-01-29T17:27:26.709927",
     "status": "completed"
    },
    "tags": []
   },
   "outputs": [],
   "source": [
    "model.compile(optimizer='adam',loss='binary_crossentropy',metrics=['acc'])"
   ]
  },
  {
   "cell_type": "code",
   "execution_count": 14,
   "metadata": {
    "execution": {
     "iopub.execute_input": "2021-01-29T17:27:27.605861Z",
     "iopub.status.busy": "2021-01-29T17:27:27.605174Z",
     "iopub.status.idle": "2021-01-29T17:28:10.800479Z",
     "shell.execute_reply": "2021-01-29T17:28:10.799958Z"
    },
    "papermill": {
     "duration": 43.495629,
     "end_time": "2021-01-29T17:28:10.800627",
     "exception": false,
     "start_time": "2021-01-29T17:27:27.304998",
     "status": "completed"
    },
    "tags": []
   },
   "outputs": [
    {
     "name": "stdout",
     "output_type": "stream",
     "text": [
      "Epoch 1/10\n",
      "625/625 [==============================] - 6s 7ms/step - loss: 0.5453 - acc: 0.6946 - val_loss: 0.3270 - val_acc: 0.8624\n",
      "Epoch 2/10\n",
      "625/625 [==============================] - 4s 7ms/step - loss: 0.1286 - acc: 0.9594 - val_loss: 0.4172 - val_acc: 0.8380\n",
      "Epoch 3/10\n",
      "625/625 [==============================] - 4s 7ms/step - loss: 0.0144 - acc: 0.9981 - val_loss: 0.5137 - val_acc: 0.8446\n",
      "Epoch 4/10\n",
      "625/625 [==============================] - 4s 7ms/step - loss: 0.0015 - acc: 1.0000 - val_loss: 0.5480 - val_acc: 0.8482\n",
      "Epoch 5/10\n",
      "625/625 [==============================] - 4s 7ms/step - loss: 5.7886e-04 - acc: 1.0000 - val_loss: 0.5762 - val_acc: 0.8470\n",
      "Epoch 6/10\n",
      "625/625 [==============================] - 4s 6ms/step - loss: 2.6936e-04 - acc: 1.0000 - val_loss: 0.5998 - val_acc: 0.8482\n",
      "Epoch 7/10\n",
      "625/625 [==============================] - 4s 7ms/step - loss: 1.6645e-04 - acc: 1.0000 - val_loss: 0.6218 - val_acc: 0.8494\n",
      "Epoch 8/10\n",
      "625/625 [==============================] - 4s 6ms/step - loss: 1.0214e-04 - acc: 1.0000 - val_loss: 0.6420 - val_acc: 0.8496\n",
      "Epoch 9/10\n",
      "625/625 [==============================] - 4s 6ms/step - loss: 6.7910e-05 - acc: 1.0000 - val_loss: 0.6622 - val_acc: 0.8496\n",
      "Epoch 10/10\n",
      "625/625 [==============================] - 4s 7ms/step - loss: 4.6235e-05 - acc: 1.0000 - val_loss: 0.6812 - val_acc: 0.8502\n"
     ]
    }
   ],
   "source": [
    "history = model.fit(x_train, y_train,epochs=10,batch_size=32,validation_data=(x_val, y_val))"
   ]
  },
  {
   "cell_type": "code",
   "execution_count": 15,
   "metadata": {
    "execution": {
     "iopub.execute_input": "2021-01-29T17:28:12.180559Z",
     "iopub.status.busy": "2021-01-29T17:28:12.179718Z",
     "iopub.status.idle": "2021-01-29T17:28:30.682586Z",
     "shell.execute_reply": "2021-01-29T17:28:30.681032Z"
    },
    "papermill": {
     "duration": 19.237761,
     "end_time": "2021-01-29T17:28:30.682819",
     "exception": false,
     "start_time": "2021-01-29T17:28:11.445058",
     "status": "completed"
    },
    "tags": []
   },
   "outputs": [
    {
     "name": "stderr",
     "output_type": "stream",
     "text": [
      "1689it [00:00, 16887.12it/s]"
     ]
    },
    {
     "name": "stdout",
     "output_type": "stream",
     "text": [
      "Loading word vectors\n"
     ]
    },
    {
     "name": "stderr",
     "output_type": "stream",
     "text": [
      "400000it [00:18, 21634.55it/s]"
     ]
    },
    {
     "name": "stdout",
     "output_type": "stream",
     "text": [
      "Found 400000 word vectors.\n"
     ]
    },
    {
     "name": "stderr",
     "output_type": "stream",
     "text": [
      "\n"
     ]
    }
   ],
   "source": [
    "glove = '../input/glove-global-vectors-for-word-representation'\n",
    "print('Loading word vectors')\n",
    "embeddings_idx = {} \n",
    "f = open(os.path.join(glove, 'glove.6B.100d.txt'))\n",
    "for line in tqdm(f):\n",
    "    values = line.split()\n",
    "    word = values[0] \n",
    "    embedding = np.asarray(values[1:], dtype='float32') \n",
    "    embeddings_idx[word] = embedding\n",
    "f.close()\n",
    "print('Found %s word vectors.' % len(embeddings_idx))"
   ]
  },
  {
   "cell_type": "code",
   "execution_count": 16,
   "metadata": {
    "execution": {
     "iopub.execute_input": "2021-01-29T17:28:31.887769Z",
     "iopub.status.busy": "2021-01-29T17:28:31.877556Z",
     "iopub.status.idle": "2021-01-29T17:28:32.694884Z",
     "shell.execute_reply": "2021-01-29T17:28:32.695404Z"
    },
    "papermill": {
     "duration": 1.432959,
     "end_time": "2021-01-29T17:28:32.695575",
     "exception": false,
     "start_time": "2021-01-29T17:28:31.262616",
     "status": "completed"
    },
    "tags": []
   },
   "outputs": [
    {
     "name": "stderr",
     "output_type": "stream",
     "text": [
      "/opt/conda/lib/python3.7/site-packages/IPython/core/interactiveshell.py:3338: FutureWarning: arrays to stack must be passed as a \"sequence\" type such as list or tuple. Support for non-sequence iterables such as generators is deprecated as of NumPy 1.16 and will raise an error in the future.\n",
      "  if (await self.run_code(code, result,  async_=asy)):\n"
     ]
    },
    {
     "data": {
      "text/plain": [
       "(0.004451992, 0.4081574)"
      ]
     },
     "execution_count": 16,
     "metadata": {},
     "output_type": "execute_result"
    }
   ],
   "source": [
    "all_embeddings = np.stack(embeddings_idx.values())\n",
    "emb_mean = all_embeddings.mean()\n",
    "emb_std = all_embeddings.std() \n",
    "emb_mean,emb_std"
   ]
  },
  {
   "cell_type": "code",
   "execution_count": 17,
   "metadata": {
    "execution": {
     "iopub.execute_input": "2021-01-29T17:28:33.910171Z",
     "iopub.status.busy": "2021-01-29T17:28:33.909314Z",
     "iopub.status.idle": "2021-01-29T17:28:33.986067Z",
     "shell.execute_reply": "2021-01-29T17:28:33.985540Z"
    },
    "papermill": {
     "duration": 0.6629,
     "end_time": "2021-01-29T17:28:33.986207",
     "exception": false,
     "start_time": "2021-01-29T17:28:33.323307",
     "status": "completed"
    },
    "tags": []
   },
   "outputs": [],
   "source": [
    "embedding_dim = 100\n",
    "nb_words = min(words, len(word_idx))\n",
    "embedding_matrix = np.random.normal(emb_mean, emb_std, (nb_words, embedding_dim))\n",
    "for word, i in word_idx.items():\n",
    "    if i >= words: \n",
    "        continue\n",
    "    embedding_vector = embeddings_idx.get(word)\n",
    "    if embedding_vector is not None: \n",
    "        embedding_matrix[i] = embedding_vector"
   ]
  },
  {
   "cell_type": "code",
   "execution_count": 18,
   "metadata": {
    "execution": {
     "iopub.execute_input": "2021-01-29T17:28:35.150442Z",
     "iopub.status.busy": "2021-01-29T17:28:35.149573Z",
     "iopub.status.idle": "2021-01-29T17:28:35.188221Z",
     "shell.execute_reply": "2021-01-29T17:28:35.187463Z"
    },
    "papermill": {
     "duration": 0.625368,
     "end_time": "2021-01-29T17:28:35.188357",
     "exception": false,
     "start_time": "2021-01-29T17:28:34.562989",
     "status": "completed"
    },
    "tags": []
   },
   "outputs": [
    {
     "name": "stdout",
     "output_type": "stream",
     "text": [
      "Model: \"sequential_1\"\n",
      "_________________________________________________________________\n",
      "Layer (type)                 Output Shape              Param #   \n",
      "=================================================================\n",
      "embedding_1 (Embedding)      (None, 100, 100)          1000000   \n",
      "_________________________________________________________________\n",
      "flatten_1 (Flatten)          (None, 10000)             0         \n",
      "_________________________________________________________________\n",
      "dense_2 (Dense)              (None, 32)                320032    \n",
      "_________________________________________________________________\n",
      "dense_3 (Dense)              (None, 1)                 33        \n",
      "=================================================================\n",
      "Total params: 1,320,065\n",
      "Trainable params: 320,065\n",
      "Non-trainable params: 1,000,000\n",
      "_________________________________________________________________\n"
     ]
    }
   ],
   "source": [
    "model = Sequential()\n",
    "model.add(Embedding(words, embedding_dim, input_length=max_length, weights = [embedding_matrix], trainable = False))\n",
    "model.add(Flatten())\n",
    "model.add(Dense(32, activation='relu'))\n",
    "model.add(Dense(1, activation='sigmoid'))\n",
    "model.summary()"
   ]
  },
  {
   "cell_type": "code",
   "execution_count": 19,
   "metadata": {
    "execution": {
     "iopub.execute_input": "2021-01-29T17:28:36.403632Z",
     "iopub.status.busy": "2021-01-29T17:28:36.402531Z",
     "iopub.status.idle": "2021-01-29T17:28:36.408176Z",
     "shell.execute_reply": "2021-01-29T17:28:36.407651Z"
    },
    "papermill": {
     "duration": 0.601641,
     "end_time": "2021-01-29T17:28:36.408302",
     "exception": false,
     "start_time": "2021-01-29T17:28:35.806661",
     "status": "completed"
    },
    "tags": []
   },
   "outputs": [],
   "source": [
    "model.compile(optimizer='adam',loss='binary_crossentropy',metrics=['acc'])"
   ]
  },
  {
   "cell_type": "code",
   "execution_count": 20,
   "metadata": {
    "execution": {
     "iopub.execute_input": "2021-01-29T17:28:37.578287Z",
     "iopub.status.busy": "2021-01-29T17:28:37.577237Z",
     "iopub.status.idle": "2021-01-29T17:28:55.714182Z",
     "shell.execute_reply": "2021-01-29T17:28:55.713651Z"
    },
    "papermill": {
     "duration": 18.721956,
     "end_time": "2021-01-29T17:28:55.714331",
     "exception": false,
     "start_time": "2021-01-29T17:28:36.992375",
     "status": "completed"
    },
    "tags": []
   },
   "outputs": [
    {
     "name": "stdout",
     "output_type": "stream",
     "text": [
      "Epoch 1/10\n",
      "625/625 [==============================] - 2s 3ms/step - loss: 0.6994 - acc: 0.5060 - val_loss: 0.6931 - val_acc: 0.5014\n",
      "Epoch 2/10\n",
      "625/625 [==============================] - 2s 3ms/step - loss: 0.6932 - acc: 0.4934 - val_loss: 0.6931 - val_acc: 0.5014\n",
      "Epoch 3/10\n",
      "625/625 [==============================] - 2s 3ms/step - loss: 0.6931 - acc: 0.4963 - val_loss: 0.6932 - val_acc: 0.4986\n",
      "Epoch 4/10\n",
      "625/625 [==============================] - 2s 3ms/step - loss: 0.6932 - acc: 0.4968 - val_loss: 0.6932 - val_acc: 0.4986\n",
      "Epoch 5/10\n",
      "625/625 [==============================] - 2s 3ms/step - loss: 0.6931 - acc: 0.5006 - val_loss: 0.6932 - val_acc: 0.4986\n",
      "Epoch 6/10\n",
      "625/625 [==============================] - 2s 3ms/step - loss: 0.6931 - acc: 0.5006 - val_loss: 0.6932 - val_acc: 0.4986\n",
      "Epoch 7/10\n",
      "625/625 [==============================] - 2s 3ms/step - loss: 0.6930 - acc: 0.5068 - val_loss: 0.6931 - val_acc: 0.4986\n",
      "Epoch 8/10\n",
      "625/625 [==============================] - 2s 3ms/step - loss: 0.6736 - acc: 0.5779 - val_loss: 0.6128 - val_acc: 0.6916\n",
      "Epoch 9/10\n",
      "625/625 [==============================] - 2s 3ms/step - loss: 0.5639 - acc: 0.7323 - val_loss: 0.5685 - val_acc: 0.7220\n",
      "Epoch 10/10\n",
      "625/625 [==============================] - 2s 3ms/step - loss: 0.4905 - acc: 0.7807 - val_loss: 0.5554 - val_acc: 0.7304\n"
     ]
    }
   ],
   "source": [
    "history = model.fit(x_train, y_train,epochs=10,batch_size=32,validation_data=(x_val, y_val))"
   ]
  },
  {
   "cell_type": "code",
   "execution_count": 21,
   "metadata": {
    "execution": {
     "iopub.execute_input": "2021-01-29T17:28:57.072811Z",
     "iopub.status.busy": "2021-01-29T17:28:57.072165Z",
     "iopub.status.idle": "2021-01-29T17:28:57.179453Z",
     "shell.execute_reply": "2021-01-29T17:28:57.180118Z"
    },
    "papermill": {
     "duration": 0.788295,
     "end_time": "2021-01-29T17:28:57.180293",
     "exception": false,
     "start_time": "2021-01-29T17:28:56.391998",
     "status": "completed"
    },
    "tags": []
   },
   "outputs": [
    {
     "name": "stdout",
     "output_type": "stream",
     "text": [
      "raw seq: [[9, 6, 3, 63, 324, 248, 1, 5836, 6, 4876, 2, 643, 139, 63, 84, 571, 635, 2858, 1196, 1, 1011]]\n",
      "padded seq: [[   0    0    0    0    0    0    0    0    0    0    0    0    0    0\n",
      "     0    0    0    0    0    0    0    0    0    0    0    0    0    0\n",
      "     0    0    0    0    0    0    0    0    0    0    0    0    0    0\n",
      "     0    0    0    0    0    0    0    0    0    0    0    0    0    0\n",
      "     0    0    0    0    0    0    0    0    0    0    0    0    0    0\n",
      "     0    0    0    0    0    0    0    0    0    9    6    3   63  324\n",
      "   248    1 5836    6 4876    2  643  139   63   84  571  635 2858 1196\n",
      "     1 1011]]\n",
      "positivity: [[0.92374164]]\n"
     ]
    }
   ],
   "source": [
    "text = 'It is a really nice day. The weather is calm and cool. Something really great happened today! India won the cricket match!'\n",
    "seq_gen = tokenizer.texts_to_sequences([text])\n",
    "print('raw seq:',seq_gen)\n",
    "seq_gen = pad_sequences(seq_gen, maxlen=max_length)\n",
    "print('padded seq:',seq_gen)\n",
    "prediction = model.predict(seq_gen)\n",
    "print('positivity:',prediction)"
   ]
  },
  {
   "cell_type": "code",
   "execution_count": 22,
   "metadata": {
    "execution": {
     "iopub.execute_input": "2021-01-29T17:28:58.534344Z",
     "iopub.status.busy": "2021-01-29T17:28:58.533536Z",
     "iopub.status.idle": "2021-01-29T17:28:58.571940Z",
     "shell.execute_reply": "2021-01-29T17:28:58.572593Z"
    },
    "papermill": {
     "duration": 0.723265,
     "end_time": "2021-01-29T17:28:58.572814",
     "exception": false,
     "start_time": "2021-01-29T17:28:57.849549",
     "status": "completed"
    },
    "tags": []
   },
   "outputs": [
    {
     "name": "stdout",
     "output_type": "stream",
     "text": [
      "raw seq: [[9, 6, 3, 63, 3986, 248, 9, 6, 1040, 43, 47, 3, 173, 4, 1207, 1030, 2, 1672, 4945, 8, 1, 701, 635]]\n",
      "padded seq: [[   0    0    0    0    0    0    0    0    0    0    0    0    0    0\n",
      "     0    0    0    0    0    0    0    0    0    0    0    0    0    0\n",
      "     0    0    0    0    0    0    0    0    0    0    0    0    0    0\n",
      "     0    0    0    0    0    0    0    0    0    0    0    0    0    0\n",
      "     0    0    0    0    0    0    0    0    0    0    0    0    0    0\n",
      "     0    0    0    0    0    0    0    9    6    3   63 3986  248    9\n",
      "     6 1040   43   47    3  173    4 1207 1030    2 1672 4945    8    1\n",
      "   701  635]]\n",
      "positivity: [[0.44843894]]\n"
     ]
    }
   ],
   "source": [
    "text = 'It is a really unpleasant day. It is freezing cold out there. A lot of anti-social and criminal activities occured in the country today!!'\n",
    "seq_gen = tokenizer.texts_to_sequences([text])\n",
    "print('raw seq:',seq_gen)\n",
    "seq_gen = pad_sequences(seq_gen, maxlen=max_length)\n",
    "print('padded seq:',seq_gen)\n",
    "prediction = model.predict(seq_gen)\n",
    "print('positivity:',prediction)"
   ]
  },
  {
   "cell_type": "code",
   "execution_count": null,
   "metadata": {
    "papermill": {
     "duration": 0.679127,
     "end_time": "2021-01-29T17:28:59.936640",
     "exception": false,
     "start_time": "2021-01-29T17:28:59.257513",
     "status": "completed"
    },
    "tags": []
   },
   "outputs": [],
   "source": []
  }
 ],
 "metadata": {
  "kernelspec": {
   "display_name": "Python 3",
   "language": "python",
   "name": "python3"
  },
  "language_info": {
   "codemirror_mode": {
    "name": "ipython",
    "version": 3
   },
   "file_extension": ".py",
   "mimetype": "text/x-python",
   "name": "python",
   "nbconvert_exporter": "python",
   "pygments_lexer": "ipython3",
   "version": "3.7.9"
  },
  "papermill": {
   "default_parameters": {},
   "duration": 218.07366,
   "end_time": "2021-01-29T17:29:03.291308",
   "environment_variables": {},
   "exception": null,
   "input_path": "__notebook__.ipynb",
   "output_path": "__notebook__.ipynb",
   "parameters": {},
   "start_time": "2021-01-29T17:25:25.217648",
   "version": "2.2.2"
  }
 },
 "nbformat": 4,
 "nbformat_minor": 4
}
